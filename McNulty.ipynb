{
 "cells": [
  {
   "cell_type": "code",
   "execution_count": 74,
   "metadata": {},
   "outputs": [],
   "source": [
    "import pandas as pd\n",
    "import numpy as np\n",
    "import matplotlib.pyplot as plt\n",
    "from scipy import stats\n",
    "from sklearn.model_selection import train_test_split, RandomizedSearchCV, GridSearchCV\n",
    "from sklearn.linear_model import LogisticRegression\n",
    "import statsmodels.api as sm\n",
    "import seaborn as sns\n",
    "from sklearn.preprocessing import StandardScaler\n",
    "from sklearn.metrics import f1_score\n",
    "from sklearn.metrics import accuracy_score, confusion_matrix, recall_score, roc_auc_score, precision_score\n",
    "from sklearn import metrics\n",
    "from sklearn.metrics import roc_curve, auc\n",
    "from sklearn.tree import DecisionTreeClassifier \n",
    "from sklearn.metrics import classification_report \n",
    "\n",
    "\n",
    "\n",
    "\n",
    "\n",
    "\n",
    "\n",
    "\n",
    "%matplotlib inline\n",
    "\n",
    "\n",
    "\n"
   ]
  },
  {
   "cell_type": "code",
   "execution_count": 3,
   "metadata": {},
   "outputs": [],
   "source": [
    "train = pd.read_csv(\"/Users/priyanka/Downloads/instacart_2017_05_01/order_products__train.csv\")"
   ]
  },
  {
   "cell_type": "code",
   "execution_count": 4,
   "metadata": {},
   "outputs": [],
   "source": [
    "prior = pd.read_csv(\"/Users/priyanka/Downloads/instacart_2017_05_01/order_products__prior.csv\")"
   ]
  },
  {
   "cell_type": "code",
   "execution_count": 5,
   "metadata": {},
   "outputs": [],
   "source": [
    "orders = pd.read_csv(\"/Users/priyanka/Downloads/orders.csv\")\n",
    "\n"
   ]
  },
  {
   "cell_type": "code",
   "execution_count": 6,
   "metadata": {},
   "outputs": [],
   "source": [
    "products = pd.read_csv(\"/Users/priyanka/Downloads/instacart_2017_05_01/products.csv\")"
   ]
  },
  {
   "cell_type": "code",
   "execution_count": 7,
   "metadata": {},
   "outputs": [],
   "source": [
    "aisles = pd.read_csv(\"/Users/priyanka/Downloads/instacart_2017_05_01/aisles.csv\")"
   ]
  },
  {
   "cell_type": "code",
   "execution_count": 8,
   "metadata": {},
   "outputs": [],
   "source": [
    "departments = pd.read_csv(\"/Users/priyanka/Downloads/instacart_2017_05_01/departments.csv\")"
   ]
  },
  {
   "cell_type": "code",
   "execution_count": 9,
   "metadata": {},
   "outputs": [],
   "source": [
    "train= train.merge(orders, on='order_id')\n",
    "prior= prior.merge(orders, on='order_id')"
   ]
  },
  {
   "cell_type": "code",
   "execution_count": 10,
   "metadata": {},
   "outputs": [
    {
     "data": {
      "text/html": [
       "<div>\n",
       "<style scoped>\n",
       "    .dataframe tbody tr th:only-of-type {\n",
       "        vertical-align: middle;\n",
       "    }\n",
       "\n",
       "    .dataframe tbody tr th {\n",
       "        vertical-align: top;\n",
       "    }\n",
       "\n",
       "    .dataframe thead th {\n",
       "        text-align: right;\n",
       "    }\n",
       "</style>\n",
       "<table border=\"1\" class=\"dataframe\">\n",
       "  <thead>\n",
       "    <tr style=\"text-align: right;\">\n",
       "      <th></th>\n",
       "      <th>product_id</th>\n",
       "      <th>user_id</th>\n",
       "      <th>total_order_products</th>\n",
       "    </tr>\n",
       "  </thead>\n",
       "  <tbody>\n",
       "    <tr>\n",
       "      <th>0</th>\n",
       "      <td>1</td>\n",
       "      <td>138</td>\n",
       "      <td>2</td>\n",
       "    </tr>\n",
       "    <tr>\n",
       "      <th>1</th>\n",
       "      <td>1</td>\n",
       "      <td>709</td>\n",
       "      <td>1</td>\n",
       "    </tr>\n",
       "    <tr>\n",
       "      <th>3</th>\n",
       "      <td>1</td>\n",
       "      <td>777</td>\n",
       "      <td>1</td>\n",
       "    </tr>\n",
       "    <tr>\n",
       "      <th>6</th>\n",
       "      <td>1</td>\n",
       "      <td>1052</td>\n",
       "      <td>2</td>\n",
       "    </tr>\n",
       "    <tr>\n",
       "      <th>9</th>\n",
       "      <td>1</td>\n",
       "      <td>1494</td>\n",
       "      <td>3</td>\n",
       "    </tr>\n",
       "  </tbody>\n",
       "</table>\n",
       "</div>"
      ],
      "text/plain": [
       "   product_id  user_id  total_order_products\n",
       "0           1      138                     2\n",
       "1           1      709                     1\n",
       "3           1      777                     1\n",
       "6           1     1052                     2\n",
       "9           1     1494                     3"
      ]
     },
     "execution_count": 10,
     "metadata": {},
     "output_type": "execute_result"
    }
   ],
   "source": [
    "#creating a dataframe for user\n",
    "user_product= prior.groupby(['product_id','user_id']).order_id.count().to_frame('total_order_products').reset_index()\n",
    "\n",
    "train_id = train['user_id'].unique() \n",
    "df = user_product[user_product['user_id'].isin(train_id)]\n",
    "df.head()"
   ]
  },
  {
   "cell_type": "code",
   "execution_count": 11,
   "metadata": {},
   "outputs": [],
   "source": [
    "#User Features\n",
    "user=pd.DataFrame(prior.groupby(['user_id']).days_since_prior_order.mean())\n",
    "user.head()\n",
    "#Average day of week\n",
    "avg_dow=prior.groupby('user_id').order_dow.mean()\n",
    "#Average day of hour\n",
    "avg_doh = prior.groupby('user_id').order_hour_of_day.mean()\n",
    "user = pd.concat([user,avg_dow,avg_doh],axis=1).reset_index()"
   ]
  },
  {
   "cell_type": "code",
   "execution_count": 12,
   "metadata": {},
   "outputs": [
    {
     "data": {
      "text/html": [
       "<div>\n",
       "<style scoped>\n",
       "    .dataframe tbody tr th:only-of-type {\n",
       "        vertical-align: middle;\n",
       "    }\n",
       "\n",
       "    .dataframe tbody tr th {\n",
       "        vertical-align: top;\n",
       "    }\n",
       "\n",
       "    .dataframe thead th {\n",
       "        text-align: right;\n",
       "    }\n",
       "</style>\n",
       "<table border=\"1\" class=\"dataframe\">\n",
       "  <thead>\n",
       "    <tr style=\"text-align: right;\">\n",
       "      <th></th>\n",
       "      <th>user_id</th>\n",
       "      <th>days_since_prior_order</th>\n",
       "      <th>order_dow</th>\n",
       "      <th>order_hour_of_day</th>\n",
       "      <th>tot_items</th>\n",
       "      <th>tot_orders</th>\n",
       "      <th>avg_order_size</th>\n",
       "    </tr>\n",
       "  </thead>\n",
       "  <tbody>\n",
       "    <tr>\n",
       "      <th>0</th>\n",
       "      <td>1</td>\n",
       "      <td>20.259259</td>\n",
       "      <td>2.644068</td>\n",
       "      <td>10.542373</td>\n",
       "      <td>59</td>\n",
       "      <td>10</td>\n",
       "      <td>5.900000</td>\n",
       "    </tr>\n",
       "    <tr>\n",
       "      <th>1</th>\n",
       "      <td>2</td>\n",
       "      <td>15.967033</td>\n",
       "      <td>2.005128</td>\n",
       "      <td>10.441026</td>\n",
       "      <td>195</td>\n",
       "      <td>14</td>\n",
       "      <td>13.928571</td>\n",
       "    </tr>\n",
       "    <tr>\n",
       "      <th>2</th>\n",
       "      <td>3</td>\n",
       "      <td>11.487179</td>\n",
       "      <td>1.011364</td>\n",
       "      <td>16.352273</td>\n",
       "      <td>88</td>\n",
       "      <td>12</td>\n",
       "      <td>7.333333</td>\n",
       "    </tr>\n",
       "    <tr>\n",
       "      <th>3</th>\n",
       "      <td>4</td>\n",
       "      <td>15.357143</td>\n",
       "      <td>4.722222</td>\n",
       "      <td>13.111111</td>\n",
       "      <td>18</td>\n",
       "      <td>5</td>\n",
       "      <td>3.600000</td>\n",
       "    </tr>\n",
       "    <tr>\n",
       "      <th>4</th>\n",
       "      <td>5</td>\n",
       "      <td>14.500000</td>\n",
       "      <td>1.621622</td>\n",
       "      <td>15.729730</td>\n",
       "      <td>37</td>\n",
       "      <td>4</td>\n",
       "      <td>9.250000</td>\n",
       "    </tr>\n",
       "  </tbody>\n",
       "</table>\n",
       "</div>"
      ],
      "text/plain": [
       "   user_id  days_since_prior_order  order_dow  order_hour_of_day  tot_items  \\\n",
       "0        1               20.259259   2.644068          10.542373         59   \n",
       "1        2               15.967033   2.005128          10.441026        195   \n",
       "2        3               11.487179   1.011364          16.352273         88   \n",
       "3        4               15.357143   4.722222          13.111111         18   \n",
       "4        5               14.500000   1.621622          15.729730         37   \n",
       "\n",
       "   tot_orders  avg_order_size  \n",
       "0          10        5.900000  \n",
       "1          14       13.928571  \n",
       "2          12        7.333333  \n",
       "3           5        3.600000  \n",
       "4           4        9.250000  "
      ]
     },
     "execution_count": 12,
     "metadata": {},
     "output_type": "execute_result"
    }
   ],
   "source": [
    "total_items=prior.groupby('user_id').order_id.size().to_frame('tot_items').reset_index()\n",
    "total_orders=prior.groupby(['user_id']).order_id.nunique().to_frame('tot_orders').reset_index()\n",
    "avg_order_size = pd.merge(total_items,total_orders,on='user_id') \n",
    "avg_order_size['avg_order_size'] = avg_order_size['tot_items'] / avg_order_size['tot_orders'] #Average order size for user\n",
    "user = user.merge(avg_order_size,on='user_id')\n",
    "user.head()"
   ]
  },
  {
   "cell_type": "code",
   "execution_count": 13,
   "metadata": {},
   "outputs": [
    {
     "data": {
      "text/html": [
       "<div>\n",
       "<style scoped>\n",
       "    .dataframe tbody tr th:only-of-type {\n",
       "        vertical-align: middle;\n",
       "    }\n",
       "\n",
       "    .dataframe tbody tr th {\n",
       "        vertical-align: top;\n",
       "    }\n",
       "\n",
       "    .dataframe thead th {\n",
       "        text-align: right;\n",
       "    }\n",
       "</style>\n",
       "<table border=\"1\" class=\"dataframe\">\n",
       "  <thead>\n",
       "    <tr style=\"text-align: right;\">\n",
       "      <th></th>\n",
       "      <th>order_id</th>\n",
       "      <th>user_id</th>\n",
       "      <th>cart_item</th>\n",
       "      <th>product_id</th>\n",
       "      <th>reord_items</th>\n",
       "      <th>reord_prob</th>\n",
       "    </tr>\n",
       "  </thead>\n",
       "  <tbody>\n",
       "    <tr>\n",
       "      <th>0</th>\n",
       "      <td>473747</td>\n",
       "      <td>1</td>\n",
       "      <td>5</td>\n",
       "      <td>12427</td>\n",
       "      <td>1</td>\n",
       "      <td>0.200</td>\n",
       "    </tr>\n",
       "    <tr>\n",
       "      <th>1</th>\n",
       "      <td>473747</td>\n",
       "      <td>1</td>\n",
       "      <td>5</td>\n",
       "      <td>196</td>\n",
       "      <td>1</td>\n",
       "      <td>0.200</td>\n",
       "    </tr>\n",
       "    <tr>\n",
       "      <th>2</th>\n",
       "      <td>473747</td>\n",
       "      <td>1</td>\n",
       "      <td>5</td>\n",
       "      <td>10258</td>\n",
       "      <td>1</td>\n",
       "      <td>0.200</td>\n",
       "    </tr>\n",
       "    <tr>\n",
       "      <th>3</th>\n",
       "      <td>431534</td>\n",
       "      <td>1</td>\n",
       "      <td>8</td>\n",
       "      <td>10258</td>\n",
       "      <td>1</td>\n",
       "      <td>0.125</td>\n",
       "    </tr>\n",
       "    <tr>\n",
       "      <th>4</th>\n",
       "      <td>431534</td>\n",
       "      <td>1</td>\n",
       "      <td>8</td>\n",
       "      <td>25133</td>\n",
       "      <td>1</td>\n",
       "      <td>0.125</td>\n",
       "    </tr>\n",
       "  </tbody>\n",
       "</table>\n",
       "</div>"
      ],
      "text/plain": [
       "   order_id  user_id  cart_item  product_id  reord_items  reord_prob\n",
       "0    473747        1          5       12427            1       0.200\n",
       "1    473747        1          5         196            1       0.200\n",
       "2    473747        1          5       10258            1       0.200\n",
       "3    431534        1          8       10258            1       0.125\n",
       "4    431534        1          8       25133            1       0.125"
      ]
     },
     "execution_count": 13,
     "metadata": {},
     "output_type": "execute_result"
    }
   ],
   "source": [
    "cart = prior.groupby(['order_id','user_id']).order_id.count().to_frame('cart_item').reset_index().sort_values(by=['user_id'])\n",
    "reord = prior.loc[prior.reordered==1]\n",
    "reord_items=reord.groupby(['order_id','user_id','product_id']).order_id.count().to_frame('reord_items').reset_index().sort_values(by=['user_id'])\n",
    "reorder_items_per_cart = pd.merge(cart,reord_items,on=['order_id','user_id'])\n",
    " #Reorder items for cart for an user\n",
    "reorder_items_per_cart['reord_prob'] =reorder_items_per_cart['reord_items'] / reorder_items_per_cart['cart_item']\n",
    "reorder_items_per_cart.head()"
   ]
  },
  {
   "cell_type": "code",
   "execution_count": 14,
   "metadata": {},
   "outputs": [
    {
     "data": {
      "text/html": [
       "<div>\n",
       "<style scoped>\n",
       "    .dataframe tbody tr th:only-of-type {\n",
       "        vertical-align: middle;\n",
       "    }\n",
       "\n",
       "    .dataframe tbody tr th {\n",
       "        vertical-align: top;\n",
       "    }\n",
       "\n",
       "    .dataframe thead th {\n",
       "        text-align: right;\n",
       "    }\n",
       "</style>\n",
       "<table border=\"1\" class=\"dataframe\">\n",
       "  <thead>\n",
       "    <tr style=\"text-align: right;\">\n",
       "      <th></th>\n",
       "      <th>product_id</th>\n",
       "      <th>total</th>\n",
       "      <th>reord_rate</th>\n",
       "    </tr>\n",
       "  </thead>\n",
       "  <tbody>\n",
       "    <tr>\n",
       "      <th>0</th>\n",
       "      <td>1</td>\n",
       "      <td>1852</td>\n",
       "      <td>0.613391</td>\n",
       "    </tr>\n",
       "    <tr>\n",
       "      <th>1</th>\n",
       "      <td>2</td>\n",
       "      <td>90</td>\n",
       "      <td>0.133333</td>\n",
       "    </tr>\n",
       "    <tr>\n",
       "      <th>2</th>\n",
       "      <td>3</td>\n",
       "      <td>277</td>\n",
       "      <td>0.732852</td>\n",
       "    </tr>\n",
       "    <tr>\n",
       "      <th>3</th>\n",
       "      <td>4</td>\n",
       "      <td>329</td>\n",
       "      <td>0.446809</td>\n",
       "    </tr>\n",
       "    <tr>\n",
       "      <th>4</th>\n",
       "      <td>5</td>\n",
       "      <td>15</td>\n",
       "      <td>0.600000</td>\n",
       "    </tr>\n",
       "  </tbody>\n",
       "</table>\n",
       "</div>"
      ],
      "text/plain": [
       "   product_id  total  reord_rate\n",
       "0           1   1852    0.613391\n",
       "1           2     90    0.133333\n",
       "2           3    277    0.732852\n",
       "3           4    329    0.446809\n",
       "4           5     15    0.600000"
      ]
     },
     "execution_count": 14,
     "metadata": {},
     "output_type": "execute_result"
    }
   ],
   "source": [
    "#Product Features\n",
    "prod = prior.groupby(['product_id']).product_id.size().to_frame('total').reset_index() #Total products\n",
    "prod_reord = prior.loc[prior.reordered==1]\n",
    "prod_re = prod_reord.groupby('product_id').product_id.size().to_frame('reord_count').reset_index() \n",
    "#Product reorder rate\n",
    "prod['reord_rate'] = prod_re['reord_count'] / prod['total']\n",
    "prod.head()"
   ]
  },
  {
   "cell_type": "code",
   "execution_count": 15,
   "metadata": {},
   "outputs": [
    {
     "data": {
      "text/html": [
       "<div>\n",
       "<style scoped>\n",
       "    .dataframe tbody tr th:only-of-type {\n",
       "        vertical-align: middle;\n",
       "    }\n",
       "\n",
       "    .dataframe tbody tr th {\n",
       "        vertical-align: top;\n",
       "    }\n",
       "\n",
       "    .dataframe thead th {\n",
       "        text-align: right;\n",
       "    }\n",
       "</style>\n",
       "<table border=\"1\" class=\"dataframe\">\n",
       "  <thead>\n",
       "    <tr style=\"text-align: right;\">\n",
       "      <th></th>\n",
       "      <th>product_id</th>\n",
       "      <th>user_id</th>\n",
       "      <th>total_order_products</th>\n",
       "      <th>last_order</th>\n",
       "      <th>reordered</th>\n",
       "    </tr>\n",
       "  </thead>\n",
       "  <tbody>\n",
       "    <tr>\n",
       "      <th>0</th>\n",
       "      <td>1</td>\n",
       "      <td>138</td>\n",
       "      <td>2</td>\n",
       "      <td>{42475}</td>\n",
       "      <td>0</td>\n",
       "    </tr>\n",
       "    <tr>\n",
       "      <th>1</th>\n",
       "      <td>907</td>\n",
       "      <td>138</td>\n",
       "      <td>2</td>\n",
       "      <td>{42475}</td>\n",
       "      <td>0</td>\n",
       "    </tr>\n",
       "    <tr>\n",
       "      <th>2</th>\n",
       "      <td>1000</td>\n",
       "      <td>138</td>\n",
       "      <td>1</td>\n",
       "      <td>{42475}</td>\n",
       "      <td>0</td>\n",
       "    </tr>\n",
       "    <tr>\n",
       "      <th>3</th>\n",
       "      <td>3265</td>\n",
       "      <td>138</td>\n",
       "      <td>1</td>\n",
       "      <td>{42475}</td>\n",
       "      <td>0</td>\n",
       "    </tr>\n",
       "    <tr>\n",
       "      <th>4</th>\n",
       "      <td>4913</td>\n",
       "      <td>138</td>\n",
       "      <td>1</td>\n",
       "      <td>{42475}</td>\n",
       "      <td>0</td>\n",
       "    </tr>\n",
       "  </tbody>\n",
       "</table>\n",
       "</div>"
      ],
      "text/plain": [
       "   product_id  user_id  total_order_products last_order  reordered\n",
       "0           1      138                     2    {42475}          0\n",
       "1         907      138                     2    {42475}          0\n",
       "2        1000      138                     1    {42475}          0\n",
       "3        3265      138                     1    {42475}          0\n",
       "4        4913      138                     1    {42475}          0"
      ]
     },
     "execution_count": 15,
     "metadata": {},
     "output_type": "execute_result"
    }
   ],
   "source": [
    "#last order item for user\n",
    "cart_reord = (train.groupby('user_id').agg({'product_id':(lambda x: set(x))}).rename(columns={'product_id':'last_order'}))\n",
    "\n",
    "df= df.merge(cart_reord, on='user_id')\n",
    "df['reordered'] = (df.apply(lambda row: row['product_id'] in row['last_order'], axis=1).astype(int))\n",
    "    \n",
    "df.head()"
   ]
  },
  {
   "cell_type": "code",
   "execution_count": 16,
   "metadata": {},
   "outputs": [
    {
     "data": {
      "text/html": [
       "<div>\n",
       "<style scoped>\n",
       "    .dataframe tbody tr th:only-of-type {\n",
       "        vertical-align: middle;\n",
       "    }\n",
       "\n",
       "    .dataframe tbody tr th {\n",
       "        vertical-align: top;\n",
       "    }\n",
       "\n",
       "    .dataframe thead th {\n",
       "        text-align: right;\n",
       "    }\n",
       "</style>\n",
       "<table border=\"1\" class=\"dataframe\">\n",
       "  <thead>\n",
       "    <tr style=\"text-align: right;\">\n",
       "      <th></th>\n",
       "      <th>product_id</th>\n",
       "      <th>user_id</th>\n",
       "      <th>total_order_products</th>\n",
       "      <th>last_order</th>\n",
       "      <th>reordered</th>\n",
       "      <th>days_since_prior_order</th>\n",
       "      <th>order_dow</th>\n",
       "      <th>order_hour_of_day</th>\n",
       "      <th>tot_items</th>\n",
       "      <th>tot_orders</th>\n",
       "      <th>avg_order_size</th>\n",
       "      <th>total</th>\n",
       "      <th>reord_rate</th>\n",
       "      <th>product_name</th>\n",
       "      <th>aisle_id</th>\n",
       "      <th>department_id</th>\n",
       "    </tr>\n",
       "  </thead>\n",
       "  <tbody>\n",
       "    <tr>\n",
       "      <th>0</th>\n",
       "      <td>1</td>\n",
       "      <td>138</td>\n",
       "      <td>2</td>\n",
       "      <td>{42475}</td>\n",
       "      <td>0</td>\n",
       "      <td>10.400000</td>\n",
       "      <td>3.040541</td>\n",
       "      <td>12.689189</td>\n",
       "      <td>148</td>\n",
       "      <td>32</td>\n",
       "      <td>4.625000</td>\n",
       "      <td>1852</td>\n",
       "      <td>0.613391</td>\n",
       "      <td>Chocolate Sandwich Cookies</td>\n",
       "      <td>61</td>\n",
       "      <td>19</td>\n",
       "    </tr>\n",
       "    <tr>\n",
       "      <th>1</th>\n",
       "      <td>1</td>\n",
       "      <td>709</td>\n",
       "      <td>1</td>\n",
       "      <td>{14177, 28577, 37089, 16068, 32005, 45444, 102...</td>\n",
       "      <td>0</td>\n",
       "      <td>7.070968</td>\n",
       "      <td>1.651042</td>\n",
       "      <td>19.333333</td>\n",
       "      <td>192</td>\n",
       "      <td>5</td>\n",
       "      <td>38.400000</td>\n",
       "      <td>1852</td>\n",
       "      <td>0.613391</td>\n",
       "      <td>Chocolate Sandwich Cookies</td>\n",
       "      <td>61</td>\n",
       "      <td>19</td>\n",
       "    </tr>\n",
       "    <tr>\n",
       "      <th>2</th>\n",
       "      <td>1</td>\n",
       "      <td>777</td>\n",
       "      <td>1</td>\n",
       "      <td>{43352, 6184, 16797}</td>\n",
       "      <td>0</td>\n",
       "      <td>12.623853</td>\n",
       "      <td>2.938053</td>\n",
       "      <td>11.716814</td>\n",
       "      <td>113</td>\n",
       "      <td>26</td>\n",
       "      <td>4.346154</td>\n",
       "      <td>1852</td>\n",
       "      <td>0.613391</td>\n",
       "      <td>Chocolate Sandwich Cookies</td>\n",
       "      <td>61</td>\n",
       "      <td>19</td>\n",
       "    </tr>\n",
       "    <tr>\n",
       "      <th>3</th>\n",
       "      <td>1</td>\n",
       "      <td>1052</td>\n",
       "      <td>2</td>\n",
       "      <td>{17207}</td>\n",
       "      <td>0</td>\n",
       "      <td>10.914894</td>\n",
       "      <td>2.625000</td>\n",
       "      <td>15.145833</td>\n",
       "      <td>48</td>\n",
       "      <td>20</td>\n",
       "      <td>2.400000</td>\n",
       "      <td>1852</td>\n",
       "      <td>0.613391</td>\n",
       "      <td>Chocolate Sandwich Cookies</td>\n",
       "      <td>61</td>\n",
       "      <td>19</td>\n",
       "    </tr>\n",
       "    <tr>\n",
       "      <th>4</th>\n",
       "      <td>1</td>\n",
       "      <td>1494</td>\n",
       "      <td>3</td>\n",
       "      <td>{44560}</td>\n",
       "      <td>0</td>\n",
       "      <td>6.283582</td>\n",
       "      <td>2.784810</td>\n",
       "      <td>12.215190</td>\n",
       "      <td>158</td>\n",
       "      <td>13</td>\n",
       "      <td>12.153846</td>\n",
       "      <td>1852</td>\n",
       "      <td>0.613391</td>\n",
       "      <td>Chocolate Sandwich Cookies</td>\n",
       "      <td>61</td>\n",
       "      <td>19</td>\n",
       "    </tr>\n",
       "  </tbody>\n",
       "</table>\n",
       "</div>"
      ],
      "text/plain": [
       "   product_id  user_id  total_order_products  \\\n",
       "0           1      138                     2   \n",
       "1           1      709                     1   \n",
       "2           1      777                     1   \n",
       "3           1     1052                     2   \n",
       "4           1     1494                     3   \n",
       "\n",
       "                                          last_order  reordered  \\\n",
       "0                                            {42475}          0   \n",
       "1  {14177, 28577, 37089, 16068, 32005, 45444, 102...          0   \n",
       "2                               {43352, 6184, 16797}          0   \n",
       "3                                            {17207}          0   \n",
       "4                                            {44560}          0   \n",
       "\n",
       "   days_since_prior_order  order_dow  order_hour_of_day  tot_items  \\\n",
       "0               10.400000   3.040541          12.689189        148   \n",
       "1                7.070968   1.651042          19.333333        192   \n",
       "2               12.623853   2.938053          11.716814        113   \n",
       "3               10.914894   2.625000          15.145833         48   \n",
       "4                6.283582   2.784810          12.215190        158   \n",
       "\n",
       "   tot_orders  avg_order_size  total  reord_rate                product_name  \\\n",
       "0          32        4.625000   1852    0.613391  Chocolate Sandwich Cookies   \n",
       "1           5       38.400000   1852    0.613391  Chocolate Sandwich Cookies   \n",
       "2          26        4.346154   1852    0.613391  Chocolate Sandwich Cookies   \n",
       "3          20        2.400000   1852    0.613391  Chocolate Sandwich Cookies   \n",
       "4          13       12.153846   1852    0.613391  Chocolate Sandwich Cookies   \n",
       "\n",
       "   aisle_id  department_id  \n",
       "0        61             19  \n",
       "1        61             19  \n",
       "2        61             19  \n",
       "3        61             19  \n",
       "4        61             19  "
      ]
     },
     "execution_count": 16,
     "metadata": {},
     "output_type": "execute_result"
    }
   ],
   "source": [
    "#Merging all with the primary dataframe\n",
    "df = df.merge(user,on='user_id')\n",
    "df = df.merge(prod,on='product_id')\n",
    "df = df.merge(products,on='product_id')\n",
    "df.head()"
   ]
  },
  {
   "cell_type": "code",
   "execution_count": 17,
   "metadata": {},
   "outputs": [],
   "source": [
    "#making department id categorical and hot encoding\n",
    "df['department_id']=df['department_id'].astype(object)\n",
    "df = pd.get_dummies(df,columns=['department_id'],drop_first=True)"
   ]
  },
  {
   "cell_type": "code",
   "execution_count": 132,
   "metadata": {},
   "outputs": [
    {
     "data": {
      "text/html": [
       "<div>\n",
       "<style scoped>\n",
       "    .dataframe tbody tr th:only-of-type {\n",
       "        vertical-align: middle;\n",
       "    }\n",
       "\n",
       "    .dataframe tbody tr th {\n",
       "        vertical-align: top;\n",
       "    }\n",
       "\n",
       "    .dataframe thead th {\n",
       "        text-align: right;\n",
       "    }\n",
       "</style>\n",
       "<table border=\"1\" class=\"dataframe\">\n",
       "  <thead>\n",
       "    <tr style=\"text-align: right;\">\n",
       "      <th></th>\n",
       "      <th>product_id</th>\n",
       "      <th>user_id</th>\n",
       "      <th>total_order_products</th>\n",
       "      <th>last_order</th>\n",
       "      <th>reordered</th>\n",
       "      <th>days_since_prior_order</th>\n",
       "      <th>order_dow</th>\n",
       "      <th>order_hour_of_day</th>\n",
       "      <th>tot_items</th>\n",
       "      <th>tot_orders</th>\n",
       "      <th>...</th>\n",
       "      <th>department_id_12</th>\n",
       "      <th>department_id_13</th>\n",
       "      <th>department_id_14</th>\n",
       "      <th>department_id_15</th>\n",
       "      <th>department_id_16</th>\n",
       "      <th>department_id_17</th>\n",
       "      <th>department_id_18</th>\n",
       "      <th>department_id_19</th>\n",
       "      <th>department_id_20</th>\n",
       "      <th>department_id_21</th>\n",
       "    </tr>\n",
       "  </thead>\n",
       "  <tbody>\n",
       "    <tr>\n",
       "      <th>0</th>\n",
       "      <td>1</td>\n",
       "      <td>138</td>\n",
       "      <td>2</td>\n",
       "      <td>{42475}</td>\n",
       "      <td>0</td>\n",
       "      <td>10.400000</td>\n",
       "      <td>3.040541</td>\n",
       "      <td>12.689189</td>\n",
       "      <td>148</td>\n",
       "      <td>32</td>\n",
       "      <td>...</td>\n",
       "      <td>0</td>\n",
       "      <td>0</td>\n",
       "      <td>0</td>\n",
       "      <td>0</td>\n",
       "      <td>0</td>\n",
       "      <td>0</td>\n",
       "      <td>0</td>\n",
       "      <td>1</td>\n",
       "      <td>0</td>\n",
       "      <td>0</td>\n",
       "    </tr>\n",
       "    <tr>\n",
       "      <th>1</th>\n",
       "      <td>1</td>\n",
       "      <td>709</td>\n",
       "      <td>1</td>\n",
       "      <td>{14177, 28577, 37089, 16068, 32005, 45444, 102...</td>\n",
       "      <td>0</td>\n",
       "      <td>7.070968</td>\n",
       "      <td>1.651042</td>\n",
       "      <td>19.333333</td>\n",
       "      <td>192</td>\n",
       "      <td>5</td>\n",
       "      <td>...</td>\n",
       "      <td>0</td>\n",
       "      <td>0</td>\n",
       "      <td>0</td>\n",
       "      <td>0</td>\n",
       "      <td>0</td>\n",
       "      <td>0</td>\n",
       "      <td>0</td>\n",
       "      <td>1</td>\n",
       "      <td>0</td>\n",
       "      <td>0</td>\n",
       "    </tr>\n",
       "    <tr>\n",
       "      <th>2</th>\n",
       "      <td>1</td>\n",
       "      <td>777</td>\n",
       "      <td>1</td>\n",
       "      <td>{43352, 6184, 16797}</td>\n",
       "      <td>0</td>\n",
       "      <td>12.623853</td>\n",
       "      <td>2.938053</td>\n",
       "      <td>11.716814</td>\n",
       "      <td>113</td>\n",
       "      <td>26</td>\n",
       "      <td>...</td>\n",
       "      <td>0</td>\n",
       "      <td>0</td>\n",
       "      <td>0</td>\n",
       "      <td>0</td>\n",
       "      <td>0</td>\n",
       "      <td>0</td>\n",
       "      <td>0</td>\n",
       "      <td>1</td>\n",
       "      <td>0</td>\n",
       "      <td>0</td>\n",
       "    </tr>\n",
       "    <tr>\n",
       "      <th>3</th>\n",
       "      <td>1</td>\n",
       "      <td>1052</td>\n",
       "      <td>2</td>\n",
       "      <td>{17207}</td>\n",
       "      <td>0</td>\n",
       "      <td>10.914894</td>\n",
       "      <td>2.625000</td>\n",
       "      <td>15.145833</td>\n",
       "      <td>48</td>\n",
       "      <td>20</td>\n",
       "      <td>...</td>\n",
       "      <td>0</td>\n",
       "      <td>0</td>\n",
       "      <td>0</td>\n",
       "      <td>0</td>\n",
       "      <td>0</td>\n",
       "      <td>0</td>\n",
       "      <td>0</td>\n",
       "      <td>1</td>\n",
       "      <td>0</td>\n",
       "      <td>0</td>\n",
       "    </tr>\n",
       "    <tr>\n",
       "      <th>4</th>\n",
       "      <td>1</td>\n",
       "      <td>1494</td>\n",
       "      <td>3</td>\n",
       "      <td>{44560}</td>\n",
       "      <td>0</td>\n",
       "      <td>6.283582</td>\n",
       "      <td>2.784810</td>\n",
       "      <td>12.215190</td>\n",
       "      <td>158</td>\n",
       "      <td>13</td>\n",
       "      <td>...</td>\n",
       "      <td>0</td>\n",
       "      <td>0</td>\n",
       "      <td>0</td>\n",
       "      <td>0</td>\n",
       "      <td>0</td>\n",
       "      <td>0</td>\n",
       "      <td>0</td>\n",
       "      <td>1</td>\n",
       "      <td>0</td>\n",
       "      <td>0</td>\n",
       "    </tr>\n",
       "  </tbody>\n",
       "</table>\n",
       "<p>5 rows × 35 columns</p>\n",
       "</div>"
      ],
      "text/plain": [
       "   product_id  user_id  total_order_products  \\\n",
       "0           1      138                     2   \n",
       "1           1      709                     1   \n",
       "2           1      777                     1   \n",
       "3           1     1052                     2   \n",
       "4           1     1494                     3   \n",
       "\n",
       "                                          last_order  reordered  \\\n",
       "0                                            {42475}          0   \n",
       "1  {14177, 28577, 37089, 16068, 32005, 45444, 102...          0   \n",
       "2                               {43352, 6184, 16797}          0   \n",
       "3                                            {17207}          0   \n",
       "4                                            {44560}          0   \n",
       "\n",
       "   days_since_prior_order  order_dow  order_hour_of_day  tot_items  \\\n",
       "0               10.400000   3.040541          12.689189        148   \n",
       "1                7.070968   1.651042          19.333333        192   \n",
       "2               12.623853   2.938053          11.716814        113   \n",
       "3               10.914894   2.625000          15.145833         48   \n",
       "4                6.283582   2.784810          12.215190        158   \n",
       "\n",
       "   tot_orders        ...         department_id_12  department_id_13  \\\n",
       "0          32        ...                        0                 0   \n",
       "1           5        ...                        0                 0   \n",
       "2          26        ...                        0                 0   \n",
       "3          20        ...                        0                 0   \n",
       "4          13        ...                        0                 0   \n",
       "\n",
       "   department_id_14 department_id_15  department_id_16  department_id_17  \\\n",
       "0                 0                0                 0                 0   \n",
       "1                 0                0                 0                 0   \n",
       "2                 0                0                 0                 0   \n",
       "3                 0                0                 0                 0   \n",
       "4                 0                0                 0                 0   \n",
       "\n",
       "   department_id_18  department_id_19  department_id_20  department_id_21  \n",
       "0                 0                 1                 0                 0  \n",
       "1                 0                 1                 0                 0  \n",
       "2                 0                 1                 0                 0  \n",
       "3                 0                 1                 0                 0  \n",
       "4                 0                 1                 0                 0  \n",
       "\n",
       "[5 rows x 35 columns]"
      ]
     },
     "execution_count": 132,
     "metadata": {},
     "output_type": "execute_result"
    }
   ],
   "source": [
    "df.head()"
   ]
  },
  {
   "cell_type": "code",
   "execution_count": 64,
   "metadata": {},
   "outputs": [
    {
     "data": {
      "text/plain": [
       "Text(0.5,1,'Top products reordered')"
      ]
     },
     "execution_count": 64,
     "metadata": {},
     "output_type": "execute_result"
    },
    {
     "data": {
      "image/png": "[encoded data removed]",
      "text/plain": [
       "<Figure size 432x288 with 1 Axes>"
      ]
     },
     "metadata": {},
     "output_type": "display_data"
    }
   ],
   "source": [
    "#Top products ordered\n",
    "pr=df.loc[df.reordered==1]\n",
    "product_count = pd.DataFrame(pr.product_name.value_counts().head(20).to_frame('count')).reset_index()\n",
    "sns.barplot(product_count['index'],product_count['count'])\n",
    "plt.xlabel(\"Products\")\n",
    "plt.ylabel(\"Quantity of products\")\n",
    "plt.xticks(rotation=90)\n",
    "plt.title('Top products reordered')"
   ]
  },
  {
   "cell_type": "code",
   "execution_count": 65,
   "metadata": {},
   "outputs": [
    {
     "data": {
      "text/plain": [
       "Text(0.5,1,'Total orders per Hour')"
      ]
     },
     "execution_count": 65,
     "metadata": {},
     "output_type": "execute_result"
    },
    {
     "data": {
      "image/png": "[encoded data removed]",
      "text/plain": [
       "<Figure size 432x288 with 1 Axes>"
      ]
     },
     "metadata": {},
     "output_type": "display_data"
    }
   ],
   "source": [
    "#Peak hours\n",
    "mo=prior.loc[prior.reordered==1]\n",
    "g1=pd.DataFrame(mo.order_hour_of_day.value_counts().to_frame('order')).reset_index()\n",
    "g1=g1.rename(columns={'index':'hours'})\n",
    "sns.barplot(g1['hours'],g1['order'])\n",
    "plt.xlabel(\"Hours\")\n",
    "plt.ylabel(\"Total orders\")\n",
    "plt.title('Total orders per Hour')\n",
    "#plt.xticks(rotation=90)"
   ]
  },
  {
   "cell_type": "code",
   "execution_count": 66,
   "metadata": {},
   "outputs": [
    {
     "data": {
      "text/plain": [
       "Text(0.5,1,'Total orders for Day')"
      ]
     },
     "execution_count": 66,
     "metadata": {},
     "output_type": "execute_result"
    },
    {
     "data": {
      "image/png": "[encoded data removed]",
      "text/plain": [
       "<Figure size 432x288 with 1 Axes>"
      ]
     },
     "metadata": {},
     "output_type": "display_data"
    }
   ],
   "source": [
    "#Peak days\n",
    "days=prior.loc[prior.reordered==1]\n",
    "g2=pd.DataFrame(days.order_dow.value_counts().to_frame('order')).reset_index()\n",
    "g2=g2.rename(columns={'index':'Day'})\n",
    "sns.barplot(g2['Day'],g2['order'])\n",
    "plt.xlabel(\"Days\")\n",
    "plt.ylabel(\"Total orders\")\n",
    "labels=['Saturday', 'Sunday', 'Friday', 'Thursday', 'Monday','Tuesday','Wednesday']\n",
    "plt.xticks(g2['Day'],labels,rotation=90)\n",
    "plt.title('Total orders for Day')"
   ]
  },
  {
   "cell_type": "code",
   "execution_count": 67,
   "metadata": {},
   "outputs": [
    {
     "data": {
      "text/plain": [
       "Text(0.5,1,'Add to cart order sequence')"
      ]
     },
     "execution_count": 67,
     "metadata": {},
     "output_type": "execute_result"
    },
    {
     "data": {
      "image/png": "[encoded data removed]",
      "text/plain": [
       "<Figure size 432x288 with 1 Axes>"
      ]
     },
     "metadata": {},
     "output_type": "display_data"
    }
   ],
   "source": [
    "#Cart order sequence is directly proportional to reordered\n",
    "add = prior.loc[prior.reordered==1]\n",
    "g4 = pd.DataFrame(add.add_to_cart_order.value_counts().head(30).reset_index())\n",
    "g4=g4.rename(columns={'index':'add_to_cart_order','add_to_cart_order':'total_orders'})\n",
    "sns.barplot(g4['add_to_cart_order'],g4['total_orders'])\n",
    "plt.xlabel('Add to cart order')\n",
    "plt.ylabel('Total orders')\n",
    "plt.xticks(rotation = 90)\n",
    "plt.title('Add to cart order sequence')"
   ]
  },
  {
   "cell_type": "code",
   "execution_count": 18,
   "metadata": {},
   "outputs": [],
   "source": [
    "#Average cart size for user-product\n",
    "prod_cart = prior.groupby(['user_id','product_id']).product_id.count().to_frame('prod_cart').reset_index()\n",
    "total_prod_cart = prior.groupby(['user_id']).order_id.nunique().to_frame('total_prod_cart').reset_index()\n",
    "avg_cart_size = pd.merge(prod_cart,total_prod_cart,on=['user_id'])\n",
    "avg_cart_size['avg_cart_order'] = avg_cart_size['prod_cart'] / avg_cart_size['total_prod_cart']\n",
    "df = df.merge(avg_cart_size,on=['user_id','product_id'])\n"
   ]
  },
  {
   "cell_type": "code",
   "execution_count": 19,
   "metadata": {},
   "outputs": [],
   "source": [
    "user_prod_reorder_item = prior.groupby(['user_id','product_id']).reordered.sum().to_frame('user_prod_reord').reset_index()\n",
    "df2=df.copy() #copy of dataframe\n",
    "total_order_user = prior.groupby('user_id').user_id.count().to_frame('total_ord_by_user').reset_index()\n",
    "\n",
    "#Total order of product by user reordered\n",
    "user_prod_reord = user_prod_reorder_item.merge(total_order_user,on=['user_id'])\n",
    "\n",
    "#Times the user ordered the product\n",
    "user_prod_reord['times_reord_by_user'] = user_prod_reord['user_prod_reord'] / user_prod_reord['total_ord_by_user']\n",
    "df2 = df2.merge(user_prod_reord,on=['user_id','product_id'])"
   ]
  },
  {
   "cell_type": "code",
   "execution_count": 27,
   "metadata": {},
   "outputs": [],
   "source": [
    "X = df2.drop(['aisle_id','last_order','product_id','total_order_products','user_id','reordered','reord_rate','product_name'],axis=1)"
   ]
  },
  {
   "cell_type": "code",
   "execution_count": 28,
   "metadata": {},
   "outputs": [],
   "source": [
    "y = df2['reordered']"
   ]
  },
  {
   "cell_type": "code",
   "execution_count": 29,
   "metadata": {},
   "outputs": [
    {
     "data": {
      "text/plain": [
       "(8474661, 33)"
      ]
     },
     "execution_count": 29,
     "metadata": {},
     "output_type": "execute_result"
    }
   ],
   "source": [
    "X.shape"
   ]
  },
  {
   "cell_type": "code",
   "execution_count": 30,
   "metadata": {},
   "outputs": [
    {
     "data": {
      "text/plain": [
       "Index(['days_since_prior_order', 'order_dow', 'order_hour_of_day', 'tot_items',\n",
       "       'tot_orders', 'avg_order_size', 'total', 'department_id_2',\n",
       "       'department_id_3', 'department_id_4', 'department_id_5',\n",
       "       'department_id_6', 'department_id_7', 'department_id_8',\n",
       "       'department_id_9', 'department_id_10', 'department_id_11',\n",
       "       'department_id_12', 'department_id_13', 'department_id_14',\n",
       "       'department_id_15', 'department_id_16', 'department_id_17',\n",
       "       'department_id_18', 'department_id_19', 'department_id_20',\n",
       "       'department_id_21', 'prod_cart', 'total_prod_cart', 'avg_cart_order',\n",
       "       'user_prod_reord', 'total_ord_by_user', 'times_reord_by_user'],\n",
       "      dtype='object')"
      ]
     },
     "execution_count": 30,
     "metadata": {},
     "output_type": "execute_result"
    }
   ],
   "source": [
    "X.columns"
   ]
  },
  {
   "cell_type": "code",
   "execution_count": 96,
   "metadata": {},
   "outputs": [
    {
     "data": {
      "text/plain": [
       "Text(0.5,1,'Class imbalance')"
      ]
     },
     "execution_count": 96,
     "metadata": {},
     "output_type": "execute_result"
    },
    {
     "data": {
      "image/png": "[encoded data removed]",
      "text/plain": [
       "<Figure size 432x288 with 1 Axes>"
      ]
     },
     "metadata": {},
     "output_type": "display_data"
    }
   ],
   "source": [
    "#Class imabalance\n",
    "sns.countplot(y)\n",
    "plt.ylabel('Total order count')\n",
    "plt.title('Class imbalance')"
   ]
  },
  {
   "cell_type": "code",
   "execution_count": 140,
   "metadata": {},
   "outputs": [],
   "source": [
    "#Train-test split\n",
    "X_train, X_test, y_train, y_test = train_test_split(X, y, test_size=0.3, random_state=42)"
   ]
  },
  {
   "cell_type": "code",
   "execution_count": null,
   "metadata": {},
   "outputs": [],
   "source": [
    "#Scaling the values\n",
    "scaler=StandardScaler()\n",
    "X_std=scaler.fit_transform(X_train)\n",
    "X_std1=scaler.transform(X_test)\n"
   ]
  },
  {
   "cell_type": "code",
   "execution_count": 33,
   "metadata": {},
   "outputs": [
    {
     "name": "stderr",
     "output_type": "stream",
     "text": [
      "/Users/priyanka/anaconda3/lib/python3.6/site-packages/sklearn/model_selection/_split.py:1943: FutureWarning: You should specify a value for 'cv' instead of relying on the default value. The default value will change from 3 to 5 in version 0.22.\n",
      "  warnings.warn(CV_WARNING, FutureWarning)\n",
      "/Users/priyanka/anaconda3/lib/python3.6/site-packages/sklearn/linear_model/logistic.py:432: FutureWarning: Default solver will be changed to 'lbfgs' in 0.22. Specify a solver to silence this warning.\n",
      "  FutureWarning)\n",
      "/Users/priyanka/anaconda3/lib/python3.6/site-packages/sklearn/linear_model/logistic.py:432: FutureWarning: Default solver will be changed to 'lbfgs' in 0.22. Specify a solver to silence this warning.\n",
      "  FutureWarning)\n",
      "/Users/priyanka/anaconda3/lib/python3.6/site-packages/sklearn/linear_model/logistic.py:432: FutureWarning: Default solver will be changed to 'lbfgs' in 0.22. Specify a solver to silence this warning.\n",
      "  FutureWarning)\n",
      "/Users/priyanka/anaconda3/lib/python3.6/site-packages/sklearn/linear_model/logistic.py:432: FutureWarning: Default solver will be changed to 'lbfgs' in 0.22. Specify a solver to silence this warning.\n",
      "  FutureWarning)\n",
      "/Users/priyanka/anaconda3/lib/python3.6/site-packages/sklearn/linear_model/logistic.py:432: FutureWarning: Default solver will be changed to 'lbfgs' in 0.22. Specify a solver to silence this warning.\n",
      "  FutureWarning)\n",
      "/Users/priyanka/anaconda3/lib/python3.6/site-packages/sklearn/linear_model/logistic.py:432: FutureWarning: Default solver will be changed to 'lbfgs' in 0.22. Specify a solver to silence this warning.\n",
      "  FutureWarning)\n",
      "/Users/priyanka/anaconda3/lib/python3.6/site-packages/sklearn/linear_model/logistic.py:432: FutureWarning: Default solver will be changed to 'lbfgs' in 0.22. Specify a solver to silence this warning.\n",
      "  FutureWarning)\n",
      "/Users/priyanka/anaconda3/lib/python3.6/site-packages/sklearn/linear_model/logistic.py:432: FutureWarning: Default solver will be changed to 'lbfgs' in 0.22. Specify a solver to silence this warning.\n",
      "  FutureWarning)\n",
      "/Users/priyanka/anaconda3/lib/python3.6/site-packages/sklearn/linear_model/logistic.py:432: FutureWarning: Default solver will be changed to 'lbfgs' in 0.22. Specify a solver to silence this warning.\n",
      "  FutureWarning)\n",
      "/Users/priyanka/anaconda3/lib/python3.6/site-packages/sklearn/linear_model/logistic.py:432: FutureWarning: Default solver will be changed to 'lbfgs' in 0.22. Specify a solver to silence this warning.\n",
      "  FutureWarning)\n",
      "/Users/priyanka/anaconda3/lib/python3.6/site-packages/sklearn/linear_model/logistic.py:432: FutureWarning: Default solver will be changed to 'lbfgs' in 0.22. Specify a solver to silence this warning.\n",
      "  FutureWarning)\n",
      "/Users/priyanka/anaconda3/lib/python3.6/site-packages/sklearn/linear_model/logistic.py:432: FutureWarning: Default solver will be changed to 'lbfgs' in 0.22. Specify a solver to silence this warning.\n",
      "  FutureWarning)\n",
      "/Users/priyanka/anaconda3/lib/python3.6/site-packages/sklearn/linear_model/logistic.py:432: FutureWarning: Default solver will be changed to 'lbfgs' in 0.22. Specify a solver to silence this warning.\n",
      "  FutureWarning)\n",
      "/Users/priyanka/anaconda3/lib/python3.6/site-packages/sklearn/linear_model/logistic.py:432: FutureWarning: Default solver will be changed to 'lbfgs' in 0.22. Specify a solver to silence this warning.\n",
      "  FutureWarning)\n",
      "/Users/priyanka/anaconda3/lib/python3.6/site-packages/sklearn/linear_model/logistic.py:432: FutureWarning: Default solver will be changed to 'lbfgs' in 0.22. Specify a solver to silence this warning.\n",
      "  FutureWarning)\n",
      "/Users/priyanka/anaconda3/lib/python3.6/site-packages/sklearn/linear_model/logistic.py:432: FutureWarning: Default solver will be changed to 'lbfgs' in 0.22. Specify a solver to silence this warning.\n",
      "  FutureWarning)\n",
      "/Users/priyanka/anaconda3/lib/python3.6/site-packages/sklearn/linear_model/logistic.py:432: FutureWarning: Default solver will be changed to 'lbfgs' in 0.22. Specify a solver to silence this warning.\n",
      "  FutureWarning)\n",
      "/Users/priyanka/anaconda3/lib/python3.6/site-packages/sklearn/linear_model/logistic.py:432: FutureWarning: Default solver will be changed to 'lbfgs' in 0.22. Specify a solver to silence this warning.\n",
      "  FutureWarning)\n",
      "/Users/priyanka/anaconda3/lib/python3.6/site-packages/sklearn/linear_model/logistic.py:432: FutureWarning: Default solver will be changed to 'lbfgs' in 0.22. Specify a solver to silence this warning.\n",
      "  FutureWarning)\n",
      "/Users/priyanka/anaconda3/lib/python3.6/site-packages/sklearn/linear_model/logistic.py:432: FutureWarning: Default solver will be changed to 'lbfgs' in 0.22. Specify a solver to silence this warning.\n",
      "  FutureWarning)\n",
      "/Users/priyanka/anaconda3/lib/python3.6/site-packages/sklearn/linear_model/logistic.py:432: FutureWarning: Default solver will be changed to 'lbfgs' in 0.22. Specify a solver to silence this warning.\n",
      "  FutureWarning)\n",
      "/Users/priyanka/anaconda3/lib/python3.6/site-packages/sklearn/linear_model/logistic.py:432: FutureWarning: Default solver will be changed to 'lbfgs' in 0.22. Specify a solver to silence this warning.\n",
      "  FutureWarning)\n",
      "/Users/priyanka/anaconda3/lib/python3.6/site-packages/sklearn/linear_model/logistic.py:432: FutureWarning: Default solver will be changed to 'lbfgs' in 0.22. Specify a solver to silence this warning.\n",
      "  FutureWarning)\n",
      "/Users/priyanka/anaconda3/lib/python3.6/site-packages/sklearn/linear_model/logistic.py:432: FutureWarning: Default solver will be changed to 'lbfgs' in 0.22. Specify a solver to silence this warning.\n",
      "  FutureWarning)\n",
      "/Users/priyanka/anaconda3/lib/python3.6/site-packages/sklearn/linear_model/logistic.py:432: FutureWarning: Default solver will be changed to 'lbfgs' in 0.22. Specify a solver to silence this warning.\n",
      "  FutureWarning)\n"
     ]
    },
    {
     "data": {
      "text/plain": [
       "GridSearchCV(cv='warn', error_score='raise-deprecating',\n",
       "       estimator=LogisticRegression(C=1.0, class_weight={1: 7, 0: 1}, dual=False,\n",
       "          fit_intercept=True, intercept_scaling=1, max_iter=100,\n",
       "          multi_class='warn', n_jobs=None, penalty='l2', random_state=None,\n",
       "          solver='warn', tol=0.0001, verbose=0, warm_start=False),\n",
       "       fit_params=None, iid='warn', n_jobs=None,\n",
       "       param_grid={'C': [0.001, 0.01, 0.1, 1, 10, 100, 1000, 10000000]},\n",
       "       pre_dispatch='2*n_jobs', refit=True, return_train_score='warn',\n",
       "       scoring=None, verbose=0)"
      ]
     },
     "execution_count": 33,
     "metadata": {},
     "output_type": "execute_result"
    }
   ],
   "source": [
    "#Finding the best parameters\n",
    "param_grid = {'C': [0.001, 0.01, 0.1, 1, 10, 100, 1000,10000000]}\n",
    "    \n",
    "clf = GridSearchCV(LogisticRegression(penalty='l2',class_weight={1 : 7, 0 : 1}), param_grid)\n",
    "clf.fit(X_std,y_train)\n"
   ]
  },
  {
   "cell_type": "code",
   "execution_count": 34,
   "metadata": {},
   "outputs": [
    {
     "name": "stdout",
     "output_type": "stream",
     "text": [
      "Best score for data: 0.8263132576751329\n",
      "Best C: 1.0\n"
     ]
    }
   ],
   "source": [
    "print('Best score for data:', clf.score(X_std1,y_test)) \n",
    "print('Best C:',clf.estimator.C)"
   ]
  },
  {
   "cell_type": "code",
   "execution_count": 38,
   "metadata": {},
   "outputs": [
    {
     "name": "stderr",
     "output_type": "stream",
     "text": [
      "/Users/priyanka/anaconda3/lib/python3.6/site-packages/sklearn/linear_model/logistic.py:432: FutureWarning: Default solver will be changed to 'lbfgs' in 0.22. Specify a solver to silence this warning.\n",
      "  FutureWarning)\n"
     ]
    },
    {
     "data": {
      "text/plain": [
       "0.3528035251974365"
      ]
     },
     "execution_count": 38,
     "metadata": {},
     "output_type": "execute_result"
    }
   ],
   "source": [
    "#Applying class_weight = balanced\n",
    "lr = LogisticRegression(class_weight='balanced',C=1)\n",
    "lr.fit(X_std, y_train)\n",
    "cv_f1 = f1_score(lr.predict(X_std1),y_test)\n",
    "cv_f1"
   ]
  },
  {
   "cell_type": "code",
   "execution_count": 40,
   "metadata": {},
   "outputs": [
    {
     "name": "stderr",
     "output_type": "stream",
     "text": [
      "/Users/priyanka/anaconda3/lib/python3.6/site-packages/sklearn/linear_model/logistic.py:432: FutureWarning: Default solver will be changed to 'lbfgs' in 0.22. Specify a solver to silence this warning.\n",
      "  FutureWarning)\n"
     ]
    },
    {
     "data": {
      "text/plain": [
       "0.3768604324627914"
      ]
     },
     "execution_count": 40,
     "metadata": {},
     "output_type": "execute_result"
    }
   ],
   "source": [
    "#Applying class_weight\n",
    "logreg = LogisticRegression(class_weight={1 : 7, 0 : 1}, C=1)\n",
    "logreg.fit(X_std, y_train)\n",
    "cv_f2 = f1_score(logreg.predict(X_std1),y_test)\n",
    "cv_f2"
   ]
  },
  {
   "cell_type": "code",
   "execution_count": 45,
   "metadata": {},
   "outputs": [
    {
     "name": "stdout",
     "output_type": "stream",
     "text": [
      "0.8263132576751329\n"
     ]
    }
   ],
   "source": [
    "#Predicted values of y\n",
    "y_pred = logreg.predict(X_std1)\n",
    "#Accuracy score\n",
    "print(metrics.accuracy_score(y_test, y_pred))"
   ]
  },
  {
   "cell_type": "code",
   "execution_count": 46,
   "metadata": {},
   "outputs": [
    {
     "name": "stdout",
     "output_type": "stream",
     "text": [
      "[[1967289  326626]\n",
      " [ 114955  133529]]\n"
     ]
    }
   ],
   "source": [
    "#Confusion matrix\n",
    "print(metrics.confusion_matrix(y_test, y_pred))"
   ]
  },
  {
   "cell_type": "code",
   "execution_count": 47,
   "metadata": {},
   "outputs": [
    {
     "name": "stdout",
     "output_type": "stream",
     "text": [
      "[[1967289  326626]\n",
      " [ 114955  133529]]\n"
     ]
    }
   ],
   "source": [
    "#Assigning TP,FP,TN,FN\n",
    "confusion = metrics.confusion_matrix(y_test, y_pred)\n",
    "print(confusion)\n",
    "TP = confusion[1, 1]\n",
    "TN = confusion[0, 0]\n",
    "FP = confusion[0, 1]\n",
    "FN = confusion[1, 0]"
   ]
  },
  {
   "cell_type": "code",
   "execution_count": 49,
   "metadata": {},
   "outputs": [
    {
     "name": "stdout",
     "output_type": "stream",
     "text": [
      "0.1736867423248672\n",
      "0.17368674232486714\n"
     ]
    }
   ],
   "source": [
    "#Classification Error\n",
    "classification_error = (FP + FN) / float(TP + TN + FP + FN)\n",
    "\n",
    "print(classification_error)\n",
    "print(1 - metrics.accuracy_score(y_test, y_pred))"
   ]
  },
  {
   "cell_type": "code",
   "execution_count": 50,
   "metadata": {},
   "outputs": [
    {
     "name": "stdout",
     "output_type": "stream",
     "text": [
      "0.5373746398158433\n",
      "0.5373746398158433\n"
     ]
    }
   ],
   "source": [
    "#sensitivity\n",
    "sensitivity = TP / float(FN + TP)\n",
    "print(sensitivity)\n",
    "print(metrics.recall_score(y_test, y_pred))"
   ]
  },
  {
   "cell_type": "code",
   "execution_count": 51,
   "metadata": {},
   "outputs": [
    {
     "name": "stdout",
     "output_type": "stream",
     "text": [
      "0.8576119864947045\n"
     ]
    }
   ],
   "source": [
    "#specificity\n",
    "specificity = TN / (TN + FP)\n",
    "print(specificity)"
   ]
  },
  {
   "cell_type": "code",
   "execution_count": 52,
   "metadata": {},
   "outputs": [
    {
     "data": {
      "text/plain": [
       "array([0.1987043 , 0.16595324, 0.80969076, ..., 0.11798496, 0.34733356,\n",
       "       0.48245685])"
      ]
     },
     "execution_count": 52,
     "metadata": {},
     "output_type": "execute_result"
    }
   ],
   "source": [
    "#prediction probability\n",
    "y_pred_prob = logreg.predict_proba(X_std1)[:, 1]\n",
    "y_pred_prob"
   ]
  },
  {
   "cell_type": "code",
   "execution_count": 53,
   "metadata": {},
   "outputs": [],
   "source": [
    "fpr, tpr, thresholds = metrics.roc_curve(y_test, y_pred_prob)"
   ]
  },
  {
   "cell_type": "code",
   "execution_count": 54,
   "metadata": {},
   "outputs": [],
   "source": [
    "def evaluate_threshold(threshold):\n",
    "    print('Sensitivity:', tpr[thresholds > threshold][-1])\n",
    "    print('Specificity:', 1 - fpr[thresholds > threshold][-1])"
   ]
  },
  {
   "cell_type": "code",
   "execution_count": 58,
   "metadata": {},
   "outputs": [
    {
     "name": "stdout",
     "output_type": "stream",
     "text": [
      "Sensitivity: 0.8405933581236619\n",
      "Specificity: 0.5288304056601922\n"
     ]
    }
   ],
   "source": [
    "evaluate_threshold(0.3)"
   ]
  },
  {
   "cell_type": "code",
   "execution_count": 60,
   "metadata": {},
   "outputs": [
    {
     "name": "stderr",
     "output_type": "stream",
     "text": [
      "/Users/priyanka/anaconda3/lib/python3.6/site-packages/sklearn/linear_model/logistic.py:432: FutureWarning: Default solver will be changed to 'lbfgs' in 0.22. Specify a solver to silence this warning.\n",
      "  FutureWarning)\n"
     ]
    },
    {
     "data": {
      "text/html": [
       "<div>\n",
       "<style scoped>\n",
       "    .dataframe tbody tr th:only-of-type {\n",
       "        vertical-align: middle;\n",
       "    }\n",
       "\n",
       "    .dataframe tbody tr th {\n",
       "        vertical-align: top;\n",
       "    }\n",
       "\n",
       "    .dataframe thead th {\n",
       "        text-align: right;\n",
       "    }\n",
       "</style>\n",
       "<table border=\"1\" class=\"dataframe\">\n",
       "  <thead>\n",
       "    <tr style=\"text-align: right;\">\n",
       "      <th></th>\n",
       "      <th>0</th>\n",
       "    </tr>\n",
       "  </thead>\n",
       "  <tbody>\n",
       "    <tr>\n",
       "      <th>accuracy</th>\n",
       "      <td>0.738829</td>\n",
       "    </tr>\n",
       "    <tr>\n",
       "      <th>recall</th>\n",
       "      <td>0.677742</td>\n",
       "    </tr>\n",
       "    <tr>\n",
       "      <th>precision</th>\n",
       "      <td>0.223848</td>\n",
       "    </tr>\n",
       "    <tr>\n",
       "      <th>roc_auc_score</th>\n",
       "      <td>0.711594</td>\n",
       "    </tr>\n",
       "    <tr>\n",
       "      <th>f1_score</th>\n",
       "      <td>0.336541</td>\n",
       "    </tr>\n",
       "  </tbody>\n",
       "</table>\n",
       "</div>"
      ],
      "text/plain": [
       "                      0\n",
       "accuracy       0.738829\n",
       "recall         0.677742\n",
       "precision      0.223848\n",
       "roc_auc_score  0.711594\n",
       "f1_score       0.336541"
      ]
     },
     "execution_count": 60,
     "metadata": {},
     "output_type": "execute_result"
    }
   ],
   "source": [
    "#With Threshold = 0.4\n",
    "clf = LogisticRegression(class_weight={1 : 7, 0 : 1}, C=1)\n",
    "clf.fit(X_std, y_train)\n",
    "THRESHOLD = 0.4\n",
    "preds = np.where(clf.predict_proba(X_std1)[:,1] > THRESHOLD, 1, 0)\n",
    "\n",
    "pd.DataFrame(data=[accuracy_score(y_test, preds), recall_score(y_test, preds),\n",
    "                   precision_score(y_test, preds), roc_auc_score(y_test, preds),f1_score(y_test,preds)], \n",
    "             index=[\"accuracy\", \"recall\", \"precision\", \"roc_auc_score\",\"f1_score\"])"
   ]
  },
  {
   "cell_type": "code",
   "execution_count": 63,
   "metadata": {},
   "outputs": [
    {
     "data": {
      "image/png": "[encoded data removed]",
      "text/plain": [
       "<Figure size 432x288 with 1 Axes>"
      ]
     },
     "metadata": {},
     "output_type": "display_data"
    }
   ],
   "source": [
    "y_score = logreg.predict_proba(X_std1)[:,1]\n",
    "\n",
    "fpr, tpr,_ = roc_curve(y_test, y_score)\n",
    "roc_auc = auc(fpr, tpr)\n",
    "\n",
    "plt.figure()\n",
    "# Plotting our Baseline..\n",
    "plt.plot([0,1],[0,1], linestyle='--', color = 'black')\n",
    "plt.plot(fpr, tpr, color = 'green')\n",
    "plt.xlabel('False Positive Rate')\n",
    "plt.ylabel('True Positive Rate')\n",
    "plt.gca().set_aspect('equal', adjustable='box')"
   ]
  },
  {
   "cell_type": "code",
   "execution_count": 123,
   "metadata": {},
   "outputs": [
    {
     "data": {
      "text/plain": [
       "DecisionTreeClassifier(class_weight={1: 7, 0: 1}, criterion='gini',\n",
       "            max_depth=5, max_features=None, max_leaf_nodes=None,\n",
       "            min_impurity_decrease=0.0, min_impurity_split=None,\n",
       "            min_samples_leaf=5, min_samples_split=2,\n",
       "            min_weight_fraction_leaf=0.0, presort=False, random_state=90,\n",
       "            splitter='best')"
      ]
     },
     "execution_count": 123,
     "metadata": {},
     "output_type": "execute_result"
    }
   ],
   "source": [
    "#Applying Decision Tree Algorithm\n",
    "clf_gini = DecisionTreeClassifier(criterion='gini',class_weight={1 : 7, 0 : 1}, max_depth=5,min_samples_leaf=5,\n",
    "                                  random_state=90) \n",
    "  \n",
    "# Performing training \n",
    "clf_gini.fit(X_std, y_train) \n",
    "\n"
   ]
  },
  {
   "cell_type": "code",
   "execution_count": 124,
   "metadata": {},
   "outputs": [],
   "source": [
    "y_pred = clf_gini.predict(X_std1)"
   ]
  },
  {
   "cell_type": "code",
   "execution_count": 125,
   "metadata": {},
   "outputs": [
    {
     "name": "stdout",
     "output_type": "stream",
     "text": [
      "Misclassified samples: 501478\n",
      "Accuracy: 0.80\n"
     ]
    }
   ],
   "source": [
    "# how did our model perform?\n",
    "count_misclassified = (y_test != y_pred).sum()\n",
    "print('Misclassified samples: {}'.format(count_misclassified))\n",
    "accuracy = metrics.accuracy_score(y_test, y_pred)\n",
    "print('Accuracy: {:.2f}'.format(accuracy))"
   ]
  },
  {
   "cell_type": "code",
   "execution_count": 126,
   "metadata": {},
   "outputs": [
    {
     "name": "stdout",
     "output_type": "stream",
     "text": [
      "Confusion Matrix:  [[1895815  398100]\n",
      " [ 103378  145106]]\n",
      "Accuracy :  80.27540130404394\n",
      "Report :                precision    recall  f1-score   support\n",
      "\n",
      "           0       0.95      0.83      0.88   2293915\n",
      "           1       0.27      0.58      0.37    248484\n",
      "\n",
      "   micro avg       0.80      0.80      0.80   2542399\n",
      "   macro avg       0.61      0.71      0.62   2542399\n",
      "weighted avg       0.88      0.80      0.83   2542399\n",
      "\n"
     ]
    }
   ],
   "source": [
    "print(\"Confusion Matrix: \",confusion_matrix(y_test, y_pred)) \n",
    "print (\"Accuracy : \", accuracy_score(y_test,y_pred)*100) \n",
    "print(\"Report : \", classification_report(y_test, y_pred)) "
   ]
  },
  {
   "cell_type": "code",
   "execution_count": 133,
   "metadata": {},
   "outputs": [
    {
     "data": {
      "text/html": [
       "<div>\n",
       "<style scoped>\n",
       "    .dataframe tbody tr th:only-of-type {\n",
       "        vertical-align: middle;\n",
       "    }\n",
       "\n",
       "    .dataframe tbody tr th {\n",
       "        vertical-align: top;\n",
       "    }\n",
       "\n",
       "    .dataframe thead th {\n",
       "        text-align: right;\n",
       "    }\n",
       "</style>\n",
       "<table border=\"1\" class=\"dataframe\">\n",
       "  <thead>\n",
       "    <tr style=\"text-align: right;\">\n",
       "      <th></th>\n",
       "      <th>0</th>\n",
       "    </tr>\n",
       "  </thead>\n",
       "  <tbody>\n",
       "    <tr>\n",
       "      <th>accuracy</th>\n",
       "      <td>0.701692</td>\n",
       "    </tr>\n",
       "    <tr>\n",
       "      <th>recall</th>\n",
       "      <td>0.728212</td>\n",
       "    </tr>\n",
       "    <tr>\n",
       "      <th>precision</th>\n",
       "      <td>0.207551</td>\n",
       "    </tr>\n",
       "    <tr>\n",
       "      <th>roc_auc_score</th>\n",
       "      <td>0.713516</td>\n",
       "    </tr>\n",
       "    <tr>\n",
       "      <th>f1_score</th>\n",
       "      <td>0.323032</td>\n",
       "    </tr>\n",
       "  </tbody>\n",
       "</table>\n",
       "</div>"
      ],
      "text/plain": [
       "                      0\n",
       "accuracy       0.701692\n",
       "recall         0.728212\n",
       "precision      0.207551\n",
       "roc_auc_score  0.713516\n",
       "f1_score       0.323032"
      ]
     },
     "execution_count": 133,
     "metadata": {},
     "output_type": "execute_result"
    }
   ],
   "source": [
    "clf_dtree = DecisionTreeClassifier(criterion='gini',class_weight={1 : 7, 0 : 1}, max_depth=10, min_samples_leaf=5, random_state=75)\n",
    "clf_dtree.fit(X_std, y_train)\n",
    "THRESHOLD = 0.4\n",
    "preds = np.where(clf_dtree.predict_proba(X_std1)[:,1] > THRESHOLD, 1, 0)\n",
    "\n",
    "pd.DataFrame(data=[accuracy_score(y_test, preds), recall_score(y_test, preds),\n",
    "                   precision_score(y_test, preds), roc_auc_score(y_test, preds),f1_score(y_test,preds)], \n",
    "             index=[\"accuracy\", \"recall\", \"precision\", \"roc_auc_score\",\"f1_score\"])"
   ]
  },
  {
   "cell_type": "code",
   "execution_count": null,
   "metadata": {},
   "outputs": [],
   "source": []
  }
 ],
 "metadata": {
  "kernelspec": {
   "display_name": "Python 3",
   "language": "python",
   "name": "python3"
  },
  "language_info": {
   "codemirror_mode": {
    "name": "ipython",
    "version": 3
   },
   "file_extension": ".py",
   "mimetype": "text/x-python",
   "name": "python",
   "nbconvert_exporter": "python",
   "pygments_lexer": "ipython3",
   "version": "3.6.4"
  }
 },
 "nbformat": 4,
 "nbformat_minor": 2
}
